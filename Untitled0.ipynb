{
  "nbformat": 4,
  "nbformat_minor": 0,
  "metadata": {
    "colab": {
      "provenance": [],
      "authorship_tag": "ABX9TyMiObMpeYiKigj6GgP6k/Mh",
      "include_colab_link": true
    },
    "kernelspec": {
      "name": "python3",
      "display_name": "Python 3"
    },
    "language_info": {
      "name": "python"
    }
  },
  "cells": [
    {
      "cell_type": "markdown",
      "metadata": {
        "id": "view-in-github",
        "colab_type": "text"
      },
      "source": [
        "<a href=\"https://colab.research.google.com/github/pedro07br/python-basics-practice/blob/main/Untitled0.ipynb\" target=\"_parent\"><img src=\"https://colab.research.google.com/assets/colab-badge.svg\" alt=\"Open In Colab\"/></a>"
      ]
    },
    {
      "cell_type": "code",
      "execution_count": 9,
      "metadata": {
        "colab": {
          "base_uri": "https://localhost:8080/"
        },
        "id": "_8hp6i77NiU-",
        "outputId": "1b27edfc-48f4-4f35-f10f-001b0e7e4218"
      },
      "outputs": [
        {
          "output_type": "stream",
          "name": "stdout",
          "text": [
            "Digite um número inteiro: 4\n",
            "Digite um número inteiro: 3\n",
            "Digite um número decimal: 2.6\n",
            "A soma de todos os valores é: 9.6\n",
            "O produto apenas dos inteiros é: 12\n",
            "O maior número é: 4\n",
            "A divisão do maior pelo número decimal é: 1.54\n"
          ]
        }
      ],
      "source": [
        "n1 = int(input(\"Digite um número inteiro: \"))\n",
        "n2 = int(input(\"Digite um número inteiro: \"))\n",
        "n3 = float(input(\"Digite um número decimal: \"))\n",
        "\n",
        "soma = n1 + n2 + n3\n",
        "produto = n1 * n2\n",
        "\n",
        "if n1 > n2:\n",
        "    maior = n1\n",
        "else:\n",
        "    maior = n2\n",
        "\n",
        "divisao = maior / n3\n",
        "\n",
        "print(f\"A soma de todos os valores é: {soma}\")\n",
        "print(f\"O produto apenas dos inteiros é: {produto}\")\n",
        "print(f\"O maior número é: {maior}\")\n",
        "print(f\"A divisão do maior pelo número decimal é: {round(divisao, 2)}\")"
      ]
    },
    {
      "cell_type": "code",
      "source": [
        "Celsius = int(input(\"Digite um valor em graus Celsius: \"))\n",
        "\n",
        "Fahrenheit = (n1 * (9/5)) + 32\n",
        "Kelvin = n1 + 273.15\n",
        "\n",
        "print(Fahrenheit)\n",
        "print(Kelvin)"
      ],
      "metadata": {
        "colab": {
          "base_uri": "https://localhost:8080/"
        },
        "id": "QI44-o6BS9MT",
        "outputId": "b548fdf6-c5a8-4764-93e2-dbf946031cb7"
      },
      "execution_count": 11,
      "outputs": [
        {
          "output_type": "stream",
          "name": "stdout",
          "text": [
            "Digite um valor em graus Celsius: 45\n",
            "113.0\n",
            "318.15\n"
          ]
        }
      ]
    },
    {
      "cell_type": "code",
      "source": [
        "n1 = int(input(\"Digite um número inteiro: \"))\n",
        "\n",
        "if n1 % 2 == 0:\n",
        "    print(\"O número é par\")\n",
        "    n1 = n1 / 2\n",
        "    print(f\"A metade do número é: {n1}\")\n",
        "else:\n",
        "    print(\"O número é ímpar\")\n",
        "    n1 = n1 * 3\n",
        "    print(f\"O triplo do valor é: {n1}\")"
      ],
      "metadata": {
        "colab": {
          "base_uri": "https://localhost:8080/"
        },
        "id": "4PGHC0xXUOP7",
        "outputId": "0367eb5d-3cf1-4716-aa3f-235400d04382"
      },
      "execution_count": 13,
      "outputs": [
        {
          "output_type": "stream",
          "name": "stdout",
          "text": [
            "Digite um número inteiro: 4\n",
            "O número é par\n",
            "A metade do número é: 2.0\n"
          ]
        }
      ]
    },
    {
      "cell_type": "code",
      "source": [
        "condicao = 1\n",
        "\n",
        "while condicao != 0:\n",
        "    n1 = int(input(\"Digite um número inteiro: \"))\n",
        "    n2 = int(input(\"Digite um número inteiro: \"))\n",
        "\n",
        "    print(\"1 – Soma\\n2 – Subtração\\n3 – Multiplicação\\n4 – Divisão\\n0 – Sair\")\n",
        "    escolha = int(input(\"Escolha uma das opções: \"))\n",
        "\n",
        "    if escolha == 1:\n",
        "        soma = n1 + n2\n",
        "        print(f\"A soma dos números é: {soma}\")\n",
        "    elif escolha == 2:\n",
        "        subtracao = n1 - n2\n",
        "        print(f\"A subtração dos números é: {subtracao}\")\n",
        "    elif escolha == 3:\n",
        "        multiplicacao = n1 * n2\n",
        "        print(f\"A multiplicação dos números é: {multiplicacao}\")\n",
        "    elif escolha == 4:\n",
        "        if n2 != 0:\n",
        "            divisao = n1 / n2\n",
        "            print(f\"A divisão dos números é: {divisao}\")\n",
        "        else:\n",
        "            print(\"Erro: divisão por zero não é permitida!\")\n",
        "    elif escolha == 0:\n",
        "        print(\"Encerrando programa...\")\n",
        "        condicao = 0\n",
        "    else:\n",
        "        print(\"Opção inválida! Tente novamente.\")\n",
        "        condicao = 0"
      ],
      "metadata": {
        "colab": {
          "base_uri": "https://localhost:8080/"
        },
        "id": "UwPAFWucUsBK",
        "outputId": "31617412-93ad-4ba4-afdc-0cf9dbe5d58d"
      },
      "execution_count": 17,
      "outputs": [
        {
          "output_type": "stream",
          "name": "stdout",
          "text": [
            "Digite um número inteiro: 12\n",
            "Digite um número inteiro: 12\n",
            "1 – Soma\n",
            "2 – Subtração\n",
            "3 – Multiplicação\n",
            "4 – Divisão\n",
            "0 – Sair\n",
            "Escolha uma das opções: 6\n",
            "Opção inválida! Tente novamente.\n"
          ]
        }
      ]
    },
    {
      "cell_type": "code",
      "source": [
        "n1 = int(input(\"Quantos segundos você quer contar de forma regressiva? \"))\n",
        "\n",
        "if n1 > 0:\n",
        "    for i in range(n1, 0, -1):\n",
        "        print(f\"{i} segundos\")\n",
        "else:\n",
        "    print(\"Digite um número positivo para iniciar a contagem.\")"
      ],
      "metadata": {
        "colab": {
          "base_uri": "https://localhost:8080/"
        },
        "id": "QdwLlIPmXCXh",
        "outputId": "920d906d-49e4-4ba3-a41b-fa4521e005cf"
      },
      "execution_count": 23,
      "outputs": [
        {
          "output_type": "stream",
          "name": "stdout",
          "text": [
            "Quantos segundos você quer contar de forma regressiva? -5\n",
            "Digite um número positivo para iniciar a contagem.\n"
          ]
        }
      ]
    }
  ]
}